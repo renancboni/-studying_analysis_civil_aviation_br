{
  "nbformat": 4,
  "nbformat_minor": 0,
  "metadata": {
    "colab": {
      "name": "analise_aviacao_civil_br",
      "provenance": [],
      "collapsed_sections": [],
      "mount_file_id": "1Spg-6YEQ9UVBtvmAe3NoFtiQAsn3Xwl8",
      "authorship_tag": "ABX9TyPtywoLuOnThrd33TCOqGuw",
      "include_colab_link": true
    },
    "kernelspec": {
      "name": "python3",
      "display_name": "Python 3"
    },
    "language_info": {
      "name": "python"
    }
  },
  "cells": [
    {
      "cell_type": "markdown",
      "metadata": {
        "id": "view-in-github",
        "colab_type": "text"
      },
      "source": [
        "<a href=\"https://colab.research.google.com/github/renancboni/-studying_analysis_civil_aviation_br/blob/main/analise_aviacao_civil_br.ipynb\" target=\"_parent\"><img src=\"https://colab.research.google.com/assets/colab-badge.svg\" alt=\"Open In Colab\"/></a>"
      ]
    },
    {
      "cell_type": "code",
      "metadata": {
        "id": "9pjjyTtZ1bXO"
      },
      "source": [
        "pip install pandera"
      ],
      "execution_count": null,
      "outputs": []
    },
    {
      "cell_type": "code",
      "metadata": {
        "id": "xf4NKbn0vWzr"
      },
      "source": [
        "import pandas as pd\n",
        "import pandera as pa\n",
        "import matplotlib.pyplot as plt\n",
        "import seaborn as sns\n",
        "import numpy as np"
      ],
      "execution_count": 72,
      "outputs": []
    },
    {
      "cell_type": "code",
      "metadata": {
        "colab": {
          "base_uri": "https://localhost:8080/",
          "height": 359
        },
        "id": "x99FMZkF4LN6",
        "outputId": "0a14f687-099c-46d8-b5f4-8922500d4632"
      },
      "source": [
        "valores_ausentes = ['***','**','###!', '####', '****', '*****', 'NULL']\n",
        "df = pd.read_csv('/content/drive/MyDrive/CursoPython/ARQUIVOS/ocorrencia_2010_2020.csv', sep=\";\", parse_dates=['ocorrencia_dia'], dayfirst=True, na_values=valores_ausentes)\n",
        "df.head(10)"
      ],
      "execution_count": 106,
      "outputs": [
        {
          "output_type": "execute_result",
          "data": {
            "text/html": [
              "<div>\n",
              "<style scoped>\n",
              "    .dataframe tbody tr th:only-of-type {\n",
              "        vertical-align: middle;\n",
              "    }\n",
              "\n",
              "    .dataframe tbody tr th {\n",
              "        vertical-align: top;\n",
              "    }\n",
              "\n",
              "    .dataframe thead th {\n",
              "        text-align: right;\n",
              "    }\n",
              "</style>\n",
              "<table border=\"1\" class=\"dataframe\">\n",
              "  <thead>\n",
              "    <tr style=\"text-align: right;\">\n",
              "      <th></th>\n",
              "      <th>codigo_ocorrencia</th>\n",
              "      <th>codigo_ocorrencia2</th>\n",
              "      <th>ocorrencia_classificacao</th>\n",
              "      <th>ocorrencia_cidade</th>\n",
              "      <th>ocorrencia_uf</th>\n",
              "      <th>ocorrencia_aerodromo</th>\n",
              "      <th>ocorrencia_dia</th>\n",
              "      <th>ocorrencia_hora</th>\n",
              "      <th>total_recomendacoes</th>\n",
              "    </tr>\n",
              "  </thead>\n",
              "  <tbody>\n",
              "    <tr>\n",
              "      <th>0</th>\n",
              "      <td>40211</td>\n",
              "      <td>40211</td>\n",
              "      <td>INCIDENTE</td>\n",
              "      <td>RIO DE JANEIRO</td>\n",
              "      <td>RJ</td>\n",
              "      <td>NaN</td>\n",
              "      <td>2010-01-03</td>\n",
              "      <td>12:00:00</td>\n",
              "      <td>0</td>\n",
              "    </tr>\n",
              "    <tr>\n",
              "      <th>1</th>\n",
              "      <td>40349</td>\n",
              "      <td>40349</td>\n",
              "      <td>INCIDENTE</td>\n",
              "      <td>BELÉM</td>\n",
              "      <td>PA</td>\n",
              "      <td>SBBE</td>\n",
              "      <td>2010-01-03</td>\n",
              "      <td>11:05:00</td>\n",
              "      <td>0</td>\n",
              "    </tr>\n",
              "    <tr>\n",
              "      <th>2</th>\n",
              "      <td>40351</td>\n",
              "      <td>40351</td>\n",
              "      <td>INCIDENTE</td>\n",
              "      <td>RIO DE JANEIRO</td>\n",
              "      <td>RJ</td>\n",
              "      <td>SBRJ</td>\n",
              "      <td>2010-01-03</td>\n",
              "      <td>03:00:00</td>\n",
              "      <td>0</td>\n",
              "    </tr>\n",
              "    <tr>\n",
              "      <th>3</th>\n",
              "      <td>39527</td>\n",
              "      <td>39527</td>\n",
              "      <td>ACIDENTE</td>\n",
              "      <td>LUCAS DO RIO VERDE</td>\n",
              "      <td>MT</td>\n",
              "      <td>NaN</td>\n",
              "      <td>2010-01-04</td>\n",
              "      <td>17:30:00</td>\n",
              "      <td>0</td>\n",
              "    </tr>\n",
              "    <tr>\n",
              "      <th>4</th>\n",
              "      <td>40324</td>\n",
              "      <td>40324</td>\n",
              "      <td>INCIDENTE</td>\n",
              "      <td>PELOTAS</td>\n",
              "      <td>RS</td>\n",
              "      <td>SBPK</td>\n",
              "      <td>2010-01-05</td>\n",
              "      <td>19:25:00</td>\n",
              "      <td>0</td>\n",
              "    </tr>\n",
              "    <tr>\n",
              "      <th>5</th>\n",
              "      <td>39807</td>\n",
              "      <td>39807</td>\n",
              "      <td>INCIDENTE</td>\n",
              "      <td>SALVADOR</td>\n",
              "      <td>BA</td>\n",
              "      <td>NaN</td>\n",
              "      <td>2010-01-06</td>\n",
              "      <td>17:53:00</td>\n",
              "      <td>0</td>\n",
              "    </tr>\n",
              "    <tr>\n",
              "      <th>6</th>\n",
              "      <td>40215</td>\n",
              "      <td>40215</td>\n",
              "      <td>INCIDENTE</td>\n",
              "      <td>COARI</td>\n",
              "      <td>AM</td>\n",
              "      <td>SBUY</td>\n",
              "      <td>2010-01-07</td>\n",
              "      <td>18:40:00</td>\n",
              "      <td>0</td>\n",
              "    </tr>\n",
              "    <tr>\n",
              "      <th>7</th>\n",
              "      <td>39707</td>\n",
              "      <td>39707</td>\n",
              "      <td>INCIDENTE GRAVE</td>\n",
              "      <td>CANUTAMA</td>\n",
              "      <td>AM</td>\n",
              "      <td>NaN</td>\n",
              "      <td>2010-01-09</td>\n",
              "      <td>12:30:00</td>\n",
              "      <td>3</td>\n",
              "    </tr>\n",
              "    <tr>\n",
              "      <th>8</th>\n",
              "      <td>39156</td>\n",
              "      <td>39156</td>\n",
              "      <td>INCIDENTE GRAVE</td>\n",
              "      <td>CASCAVEL</td>\n",
              "      <td>PR</td>\n",
              "      <td>SBCA</td>\n",
              "      <td>2010-01-10</td>\n",
              "      <td>23:15:00</td>\n",
              "      <td>2</td>\n",
              "    </tr>\n",
              "    <tr>\n",
              "      <th>9</th>\n",
              "      <td>39711</td>\n",
              "      <td>39711</td>\n",
              "      <td>INCIDENTE GRAVE</td>\n",
              "      <td>PARÁ DE MINAS</td>\n",
              "      <td>MG</td>\n",
              "      <td>NaN</td>\n",
              "      <td>2010-01-10</td>\n",
              "      <td>20:00:00</td>\n",
              "      <td>0</td>\n",
              "    </tr>\n",
              "  </tbody>\n",
              "</table>\n",
              "</div>"
            ],
            "text/plain": [
              "   codigo_ocorrencia  codigo_ocorrencia2  ... ocorrencia_hora total_recomendacoes\n",
              "0              40211               40211  ...        12:00:00                   0\n",
              "1              40349               40349  ...        11:05:00                   0\n",
              "2              40351               40351  ...        03:00:00                   0\n",
              "3              39527               39527  ...        17:30:00                   0\n",
              "4              40324               40324  ...        19:25:00                   0\n",
              "5              39807               39807  ...        17:53:00                   0\n",
              "6              40215               40215  ...        18:40:00                   0\n",
              "7              39707               39707  ...        12:30:00                   3\n",
              "8              39156               39156  ...        23:15:00                   2\n",
              "9              39711               39711  ...        20:00:00                   0\n",
              "\n",
              "[10 rows x 9 columns]"
            ]
          },
          "metadata": {
            "tags": []
          },
          "execution_count": 106
        }
      ]
    },
    {
      "cell_type": "code",
      "metadata": {
        "id": "DytWeeSaSaVr"
      },
      "source": [
        "#adicionando coluna regiao\n",
        "\n",
        "\n",
        "conditions = [\n",
        "      (df['ocorrencia_uf'] == 'SP') | (df['ocorrencia_uf'] == 'RJ') | (df['ocorrencia_uf'] == 'SP') | (df['ocorrencia_uf'] == 'MG') | \\\n",
        "      (df['ocorrencia_uf'] == 'ES'),\n",
        "      (df['ocorrencia_uf'] == 'SC') | (df['ocorrencia_uf'] == 'PR') | (df['ocorrencia_uf'] == 'RS'),\n",
        "      (df['ocorrencia_uf'] == 'MT') | (df['ocorrencia_uf'] == 'MS') | (df['ocorrencia_uf'] == 'GO') | (df['ocorrencia_uf'] == 'DF'),\n",
        "      (df['ocorrencia_uf'] == 'AC') | (df['ocorrencia_uf'] == 'AP') | (df['ocorrencia_uf'] == 'AM') | (df['ocorrencia_uf'] == 'PA') | \\\n",
        "      (df['ocorrencia_uf'] == 'RO') | (df['ocorrencia_uf'] == 'RR') | (df['ocorrencia_uf'] == 'TO'),\n",
        "      (df['ocorrencia_uf'] == 'AL') | (df['ocorrencia_uf'] == 'BA') | (df['ocorrencia_uf'] == 'CE') | (df['ocorrencia_uf'] == 'MA') | \\\n",
        "      (df['ocorrencia_uf'] == 'PB') | (df['ocorrencia_uf'] == 'PI') | (df['ocorrencia_uf'] == 'PE') | (df['ocorrencia_uf'] == 'RN') | \\\n",
        "      (df['ocorrencia_uf'] == 'SE'),\n",
        "     \n",
        "      ]\n",
        "\n",
        "choices = ['sudeste', 'sul', 'centro oeste', 'norte', 'nordeste']\n",
        "\n",
        "df['regiao'] = np.select(conditions, choices)"
      ],
      "execution_count": 107,
      "outputs": []
    },
    {
      "cell_type": "code",
      "metadata": {
        "id": "T57seDnK53ah"
      },
      "source": [
        "#validação de colunas. os dados devem estar tipados como acima\n",
        "#caso a coluna não venham no dataset usar required=False\n",
        "\n",
        "schema = pa.DataFrameSchema(\n",
        "    columns = {\n",
        "        \"codigo_ocorrencia\":pa.Column(pa.Int),\n",
        "        \"codigo_ocorrencia2\":pa.Column(pa.Int),\n",
        "        \"ocorrencia_classificacao\":pa.Column(pa.String),\n",
        "        \"ocorrencia_cidade\":pa.Column(pa.String),\n",
        "        \"ocorrencia_uf\":pa.Column(pa.String, pa.Check.str_length(2,2), nullable=True), \n",
        "        \"ocorrencia_aerodromo\":pa.Column(pa.String, nullable=True),\n",
        "        \"ocorrencia_dia\":pa.Column(pa.DateTime),\n",
        "        \"ocorrencia_hora\":pa.Column(pa.String, pa.Check.str_matches(r'^([0-1]?[0-9]|[2][0-3]):([0-5][0-9])(:[0-5][0-9])?$'), nullable=True),\n",
        "        \"total_recomendacoes\":pa.Column(pa.Int),\n",
        "        \"regiao\":pa.Column(pa.String, nullable=True)     \n",
        "        \n",
        "    }\n",
        ")"
      ],
      "execution_count": 108,
      "outputs": []
    },
    {
      "cell_type": "code",
      "metadata": {
        "colab": {
          "base_uri": "https://localhost:8080/",
          "height": 419
        },
        "id": "wY09njVaEbkX",
        "outputId": "1e322d1e-bec3-4a12-93bb-22648385df2b"
      },
      "source": [
        "#validação do schema\n",
        "schema.validate(df) "
      ],
      "execution_count": 109,
      "outputs": [
        {
          "output_type": "execute_result",
          "data": {
            "text/html": [
              "<div>\n",
              "<style scoped>\n",
              "    .dataframe tbody tr th:only-of-type {\n",
              "        vertical-align: middle;\n",
              "    }\n",
              "\n",
              "    .dataframe tbody tr th {\n",
              "        vertical-align: top;\n",
              "    }\n",
              "\n",
              "    .dataframe thead th {\n",
              "        text-align: right;\n",
              "    }\n",
              "</style>\n",
              "<table border=\"1\" class=\"dataframe\">\n",
              "  <thead>\n",
              "    <tr style=\"text-align: right;\">\n",
              "      <th></th>\n",
              "      <th>codigo_ocorrencia</th>\n",
              "      <th>codigo_ocorrencia2</th>\n",
              "      <th>ocorrencia_classificacao</th>\n",
              "      <th>ocorrencia_cidade</th>\n",
              "      <th>ocorrencia_uf</th>\n",
              "      <th>ocorrencia_aerodromo</th>\n",
              "      <th>ocorrencia_dia</th>\n",
              "      <th>ocorrencia_hora</th>\n",
              "      <th>total_recomendacoes</th>\n",
              "      <th>regiao</th>\n",
              "    </tr>\n",
              "  </thead>\n",
              "  <tbody>\n",
              "    <tr>\n",
              "      <th>0</th>\n",
              "      <td>40211</td>\n",
              "      <td>40211</td>\n",
              "      <td>INCIDENTE</td>\n",
              "      <td>RIO DE JANEIRO</td>\n",
              "      <td>RJ</td>\n",
              "      <td>NaN</td>\n",
              "      <td>2010-01-03</td>\n",
              "      <td>12:00:00</td>\n",
              "      <td>0</td>\n",
              "      <td>sudeste</td>\n",
              "    </tr>\n",
              "    <tr>\n",
              "      <th>1</th>\n",
              "      <td>40349</td>\n",
              "      <td>40349</td>\n",
              "      <td>INCIDENTE</td>\n",
              "      <td>BELÉM</td>\n",
              "      <td>PA</td>\n",
              "      <td>SBBE</td>\n",
              "      <td>2010-01-03</td>\n",
              "      <td>11:05:00</td>\n",
              "      <td>0</td>\n",
              "      <td>norte</td>\n",
              "    </tr>\n",
              "    <tr>\n",
              "      <th>2</th>\n",
              "      <td>40351</td>\n",
              "      <td>40351</td>\n",
              "      <td>INCIDENTE</td>\n",
              "      <td>RIO DE JANEIRO</td>\n",
              "      <td>RJ</td>\n",
              "      <td>SBRJ</td>\n",
              "      <td>2010-01-03</td>\n",
              "      <td>03:00:00</td>\n",
              "      <td>0</td>\n",
              "      <td>sudeste</td>\n",
              "    </tr>\n",
              "    <tr>\n",
              "      <th>3</th>\n",
              "      <td>39527</td>\n",
              "      <td>39527</td>\n",
              "      <td>ACIDENTE</td>\n",
              "      <td>LUCAS DO RIO VERDE</td>\n",
              "      <td>MT</td>\n",
              "      <td>NaN</td>\n",
              "      <td>2010-01-04</td>\n",
              "      <td>17:30:00</td>\n",
              "      <td>0</td>\n",
              "      <td>centro oeste</td>\n",
              "    </tr>\n",
              "    <tr>\n",
              "      <th>4</th>\n",
              "      <td>40324</td>\n",
              "      <td>40324</td>\n",
              "      <td>INCIDENTE</td>\n",
              "      <td>PELOTAS</td>\n",
              "      <td>RS</td>\n",
              "      <td>SBPK</td>\n",
              "      <td>2010-01-05</td>\n",
              "      <td>19:25:00</td>\n",
              "      <td>0</td>\n",
              "      <td>sul</td>\n",
              "    </tr>\n",
              "    <tr>\n",
              "      <th>...</th>\n",
              "      <td>...</td>\n",
              "      <td>...</td>\n",
              "      <td>...</td>\n",
              "      <td>...</td>\n",
              "      <td>...</td>\n",
              "      <td>...</td>\n",
              "      <td>...</td>\n",
              "      <td>...</td>\n",
              "      <td>...</td>\n",
              "      <td>...</td>\n",
              "    </tr>\n",
              "    <tr>\n",
              "      <th>5747</th>\n",
              "      <td>79804</td>\n",
              "      <td>79804</td>\n",
              "      <td>INCIDENTE</td>\n",
              "      <td>CAMPINAS</td>\n",
              "      <td>SP</td>\n",
              "      <td>SBKP</td>\n",
              "      <td>2020-12-29</td>\n",
              "      <td>19:00:00</td>\n",
              "      <td>0</td>\n",
              "      <td>sudeste</td>\n",
              "    </tr>\n",
              "    <tr>\n",
              "      <th>5748</th>\n",
              "      <td>79757</td>\n",
              "      <td>79757</td>\n",
              "      <td>INCIDENTE GRAVE</td>\n",
              "      <td>LAGOA DA CONFUSÃO</td>\n",
              "      <td>TO</td>\n",
              "      <td>NaN</td>\n",
              "      <td>2020-12-30</td>\n",
              "      <td>18:30:00</td>\n",
              "      <td>0</td>\n",
              "      <td>norte</td>\n",
              "    </tr>\n",
              "    <tr>\n",
              "      <th>5749</th>\n",
              "      <td>79802</td>\n",
              "      <td>79802</td>\n",
              "      <td>INCIDENTE</td>\n",
              "      <td>RIO DE JANEIRO</td>\n",
              "      <td>RJ</td>\n",
              "      <td>SBGL</td>\n",
              "      <td>2020-12-30</td>\n",
              "      <td>00:54:00</td>\n",
              "      <td>0</td>\n",
              "      <td>sudeste</td>\n",
              "    </tr>\n",
              "    <tr>\n",
              "      <th>5750</th>\n",
              "      <td>79756</td>\n",
              "      <td>79756</td>\n",
              "      <td>INCIDENTE GRAVE</td>\n",
              "      <td>VICENTINA</td>\n",
              "      <td>MS</td>\n",
              "      <td>NaN</td>\n",
              "      <td>2020-12-31</td>\n",
              "      <td>09:00:00</td>\n",
              "      <td>0</td>\n",
              "      <td>centro oeste</td>\n",
              "    </tr>\n",
              "    <tr>\n",
              "      <th>5751</th>\n",
              "      <td>79844</td>\n",
              "      <td>79844</td>\n",
              "      <td>INCIDENTE</td>\n",
              "      <td>RIO DE JANEIRO</td>\n",
              "      <td>RJ</td>\n",
              "      <td>SBJR</td>\n",
              "      <td>2020-12-31</td>\n",
              "      <td>13:24:00</td>\n",
              "      <td>0</td>\n",
              "      <td>sudeste</td>\n",
              "    </tr>\n",
              "  </tbody>\n",
              "</table>\n",
              "<p>5752 rows × 10 columns</p>\n",
              "</div>"
            ],
            "text/plain": [
              "      codigo_ocorrencia  codigo_ocorrencia2  ... total_recomendacoes        regiao\n",
              "0                 40211               40211  ...                   0       sudeste\n",
              "1                 40349               40349  ...                   0         norte\n",
              "2                 40351               40351  ...                   0       sudeste\n",
              "3                 39527               39527  ...                   0  centro oeste\n",
              "4                 40324               40324  ...                   0           sul\n",
              "...                 ...                 ...  ...                 ...           ...\n",
              "5747              79804               79804  ...                   0       sudeste\n",
              "5748              79757               79757  ...                   0         norte\n",
              "5749              79802               79802  ...                   0       sudeste\n",
              "5750              79756               79756  ...                   0  centro oeste\n",
              "5751              79844               79844  ...                   0       sudeste\n",
              "\n",
              "[5752 rows x 10 columns]"
            ]
          },
          "metadata": {
            "tags": []
          },
          "execution_count": 109
        }
      ]
    },
    {
      "cell_type": "code",
      "metadata": {
        "colab": {
          "base_uri": "https://localhost:8080/"
        },
        "id": "C6_B2AaRFFFO",
        "outputId": "1f1a2ce8-60f5-4b49-9dad-2b24b9f33d0a"
      },
      "source": [
        "df.columns"
      ],
      "execution_count": 110,
      "outputs": [
        {
          "output_type": "execute_result",
          "data": {
            "text/plain": [
              "Index(['codigo_ocorrencia', 'codigo_ocorrencia2', 'ocorrencia_classificacao',\n",
              "       'ocorrencia_cidade', 'ocorrencia_uf', 'ocorrencia_aerodromo',\n",
              "       'ocorrencia_dia', 'ocorrencia_hora', 'total_recomendacoes', 'regiao'],\n",
              "      dtype='object')"
            ]
          },
          "metadata": {
            "tags": []
          },
          "execution_count": 110
        }
      ]
    },
    {
      "cell_type": "code",
      "metadata": {
        "colab": {
          "base_uri": "https://localhost:8080/"
        },
        "id": "bwf4Be6ISETD",
        "outputId": "32149bf5-2b32-4dd9-a6d3-c360d404639d"
      },
      "source": [
        "df.info()"
      ],
      "execution_count": 111,
      "outputs": [
        {
          "output_type": "stream",
          "text": [
            "<class 'pandas.core.frame.DataFrame'>\n",
            "RangeIndex: 5752 entries, 0 to 5751\n",
            "Data columns (total 10 columns):\n",
            " #   Column                    Non-Null Count  Dtype         \n",
            "---  ------                    --------------  -----         \n",
            " 0   codigo_ocorrencia         5752 non-null   int64         \n",
            " 1   codigo_ocorrencia2        5752 non-null   int64         \n",
            " 2   ocorrencia_classificacao  5752 non-null   object        \n",
            " 3   ocorrencia_cidade         5752 non-null   object        \n",
            " 4   ocorrencia_uf             5751 non-null   object        \n",
            " 5   ocorrencia_aerodromo      3403 non-null   object        \n",
            " 6   ocorrencia_dia            5752 non-null   datetime64[ns]\n",
            " 7   ocorrencia_hora           5751 non-null   object        \n",
            " 8   total_recomendacoes       5752 non-null   int64         \n",
            " 9   regiao                    5752 non-null   object        \n",
            "dtypes: datetime64[ns](1), int64(3), object(6)\n",
            "memory usage: 449.5+ KB\n"
          ],
          "name": "stdout"
        }
      ]
    },
    {
      "cell_type": "code",
      "metadata": {
        "colab": {
          "base_uri": "https://localhost:8080/"
        },
        "id": "4O3bynNgSLYg",
        "outputId": "e83f957d-781d-4e54-828a-8b5cb79d6048"
      },
      "source": [
        "#Tamanho do dataset\n",
        "df.shape\n",
        "print('O dataset possui',df.shape[0], 'registros e', df.shape[1], 'atributos.')"
      ],
      "execution_count": 112,
      "outputs": [
        {
          "output_type": "stream",
          "text": [
            "O dataset possui 5752 registros e 10 atributos.\n"
          ],
          "name": "stdout"
        }
      ]
    },
    {
      "cell_type": "code",
      "metadata": {
        "colab": {
          "base_uri": "https://localhost:8080/"
        },
        "id": "hVoN4YDnScyT",
        "outputId": "be4a1040-800c-49f7-ab94-9b02ce6ed71e"
      },
      "source": [
        "#dados nulos\n",
        "df.isna().sum()"
      ],
      "execution_count": 124,
      "outputs": [
        {
          "output_type": "execute_result",
          "data": {
            "text/plain": [
              "codigo_ocorrencia              0\n",
              "codigo_ocorrencia2             0\n",
              "ocorrencia_classificacao       0\n",
              "ocorrencia_cidade              0\n",
              "ocorrencia_uf                  1\n",
              "ocorrencia_aerodromo        2349\n",
              "ocorrencia_dia                 0\n",
              "ocorrencia_hora                1\n",
              "total_recomendacoes            0\n",
              "regiao                         0\n",
              "dtype: int64"
            ]
          },
          "metadata": {
            "tags": []
          },
          "execution_count": 124
        }
      ]
    },
    {
      "cell_type": "code",
      "metadata": {
        "id": "w2e442eO5Vyt"
      },
      "source": [
        "#alterar para nulo a região de águas internacinais. \n",
        "df.loc[df.ocorrencia_cidade == 'ÁGUAS INTERNACIONAIS', ['regiao']] = pd.NA"
      ],
      "execution_count": 125,
      "outputs": []
    },
    {
      "cell_type": "code",
      "metadata": {
        "colab": {
          "base_uri": "https://localhost:8080/"
        },
        "id": "jS9YI2CebWlV",
        "outputId": "e5da3cdb-b8d9-47b2-8477-9dfe9793badc"
      },
      "source": [
        "df['regiao'].value_counts()"
      ],
      "execution_count": 189,
      "outputs": [
        {
          "output_type": "execute_result",
          "data": {
            "text/plain": [
              "sudeste         2493\n",
              "sul             1026\n",
              "centro oeste     887\n",
              "norte            737\n",
              "nordeste         608\n",
              "Name: regiao, dtype: int64"
            ]
          },
          "metadata": {
            "tags": []
          },
          "execution_count": 189
        }
      ]
    },
    {
      "cell_type": "code",
      "metadata": {
        "colab": {
          "base_uri": "https://localhost:8080/"
        },
        "id": "yp4RniJH6Q72",
        "outputId": "6dc08c1c-7c7c-4a8a-c38d-b4b291d3eb86"
      },
      "source": [
        "#ocorrência por estado\n",
        "df['ocorrencia_uf'].value_counts()"
      ],
      "execution_count": 128,
      "outputs": [
        {
          "output_type": "execute_result",
          "data": {
            "text/plain": [
              "SP    1373\n",
              "MG     529\n",
              "RJ     516\n",
              "PR     485\n",
              "RS     352\n",
              "GO     309\n",
              "MT     292\n",
              "PA     287\n",
              "AM     233\n",
              "BA     213\n",
              "SC     189\n",
              "MS     151\n",
              "DF     135\n",
              "PE      98\n",
              "CE      88\n",
              "ES      75\n",
              "MA      75\n",
              "AC      58\n",
              "RR      55\n",
              "TO      54\n",
              "PI      40\n",
              "RO      37\n",
              "AL      33\n",
              "PB      24\n",
              "SE      21\n",
              "RN      16\n",
              "AP      13\n",
              "Name: ocorrencia_uf, dtype: int64"
            ]
          },
          "metadata": {
            "tags": []
          },
          "execution_count": 128
        }
      ]
    },
    {
      "cell_type": "code",
      "metadata": {
        "colab": {
          "base_uri": "https://localhost:8080/"
        },
        "id": "cpKRPPJ_S57H",
        "outputId": "8d068c76-67f7-460b-ea02-e835251f1d67"
      },
      "source": [
        "#quantidade de cidades\n",
        "len(df['ocorrencia_cidade'].unique())\n",
        "print(len(df['ocorrencia_cidade'].unique()), 'cidades tiveram algum tipo de ocorrência')"
      ],
      "execution_count": 129,
      "outputs": [
        {
          "output_type": "stream",
          "text": [
            "1099 cidades tiveram algum tipo de ocorrência\n"
          ],
          "name": "stdout"
        }
      ]
    },
    {
      "cell_type": "code",
      "metadata": {
        "colab": {
          "base_uri": "https://localhost:8080/"
        },
        "id": "DkLGPYFio4c2",
        "outputId": "6151a9fc-ac28-478f-e939-666b0794d05d"
      },
      "source": [
        "#TOP 10 cidades com mais ocorrências\n",
        "df['ocorrencia_cidade'].value_counts().head(10)"
      ],
      "execution_count": 130,
      "outputs": [
        {
          "output_type": "execute_result",
          "data": {
            "text/plain": [
              "RIO DE JANEIRO    321\n",
              "SÃO PAULO         275\n",
              "BELO HORIZONTE    188\n",
              "GUARULHOS         153\n",
              "CAMPINAS          150\n",
              "GOIÂNIA           138\n",
              "LONDRINA          137\n",
              "BRASÍLIA          135\n",
              "MANAUS            103\n",
              "PORTO ALEGRE       99\n",
              "Name: ocorrencia_cidade, dtype: int64"
            ]
          },
          "metadata": {
            "tags": []
          },
          "execution_count": 130
        }
      ]
    },
    {
      "cell_type": "code",
      "metadata": {
        "colab": {
          "base_uri": "https://localhost:8080/"
        },
        "id": "yxNhTCxFpK48",
        "outputId": "b7679fae-797c-4449-d6df-93a374e63475"
      },
      "source": [
        "#ocorrencias por ano\n",
        "df['ocorrencia_dia'].dt.year.value_counts()"
      ],
      "execution_count": 131,
      "outputs": [
        {
          "output_type": "execute_result",
          "data": {
            "text/plain": [
              "2013    654\n",
              "2012    647\n",
              "2011    576\n",
              "2014    567\n",
              "2010    552\n",
              "2020    510\n",
              "2019    496\n",
              "2015    471\n",
              "2018    444\n",
              "2017    432\n",
              "2016    403\n",
              "Name: ocorrencia_dia, dtype: int64"
            ]
          },
          "metadata": {
            "tags": []
          },
          "execution_count": 131
        }
      ]
    },
    {
      "cell_type": "code",
      "metadata": {
        "colab": {
          "base_uri": "https://localhost:8080/"
        },
        "id": "8Zre19WsSj7Z",
        "outputId": "9e8dc27c-bd55-4a2a-d85b-82551c3e4f55"
      },
      "source": [
        "#contagem de ocorrências\n",
        "df['ocorrencia_classificacao'].value_counts()"
      ],
      "execution_count": 132,
      "outputs": [
        {
          "output_type": "execute_result",
          "data": {
            "text/plain": [
              "INCIDENTE          3171\n",
              "ACIDENTE           1844\n",
              "INCIDENTE GRAVE     737\n",
              "Name: ocorrencia_classificacao, dtype: int64"
            ]
          },
          "metadata": {
            "tags": []
          },
          "execution_count": 132
        }
      ]
    },
    {
      "cell_type": "code",
      "metadata": {
        "colab": {
          "base_uri": "https://localhost:8080/"
        },
        "id": "TwYq74Tq55B2",
        "outputId": "55d079e4-f370-4ac7-bef8-aa7792ab5691"
      },
      "source": [
        "#TOP 10 cidades com Incidentes Graves\n",
        "filtro_inc_grave = df.ocorrencia_classificacao == 'INCIDENTE GRAVE'\n",
        "df.loc[filtro_inc_grave, ['ocorrencia_cidade', 'ocorrencia_classificacao']].value_counts().head(10)"
      ],
      "execution_count": 133,
      "outputs": [
        {
          "output_type": "execute_result",
          "data": {
            "text/plain": [
              "ocorrencia_cidade  ocorrencia_classificacao\n",
              "GOIÂNIA            INCIDENTE GRAVE             28\n",
              "RIO DE JANEIRO     INCIDENTE GRAVE             25\n",
              "SÃO PAULO          INCIDENTE GRAVE             21\n",
              "BRAGANÇA PAULISTA  INCIDENTE GRAVE             18\n",
              "BELO HORIZONTE     INCIDENTE GRAVE             17\n",
              "CURITIBA           INCIDENTE GRAVE             14\n",
              "BRASÍLIA           INCIDENTE GRAVE             13\n",
              "SALVADOR           INCIDENTE GRAVE             11\n",
              "JUNDIAÍ            INCIDENTE GRAVE             11\n",
              "LONDRINA           INCIDENTE GRAVE             10\n",
              "dtype: int64"
            ]
          },
          "metadata": {
            "tags": []
          },
          "execution_count": 133
        }
      ]
    },
    {
      "cell_type": "code",
      "metadata": {
        "id": "ZvQE8h2qUx3d"
      },
      "source": [
        "# Configurações dos gráficos\n",
        "plt.rcParams['figure.figsize'] = (15,10)\n",
        "plt.rcParams['xtick.labelsize'] = 10\n",
        "plt.rcParams['ytick.labelsize'] = 10\n",
        "plt.rcParams['font.size'] = 15 \n",
        "plt.rcParams['axes.titlesize'] = 20"
      ],
      "execution_count": 32,
      "outputs": []
    },
    {
      "cell_type": "code",
      "metadata": {
        "colab": {
          "base_uri": "https://localhost:8080/",
          "height": 630
        },
        "id": "7fB9EhoLdM2I",
        "outputId": "0e3f0d32-5fcb-4909-ef88-9405db3b595b"
      },
      "source": [
        "sns.set_theme(style=\"darkgrid\")\n",
        "\n",
        "ax = sns.countplot(x = \"regiao\", hue = 'ocorrencia_classificacao', data=df, order=df['regiao'].value_counts().index)\n",
        "ax.set_title('Tipo de ocorrência por estado', fontsize=15)\n",
        "ax.set_xlabel('Região', fontsize=12)\n",
        "ax.set_ylabel('Quantidade', fontsize=12)\n",
        "plt.show()"
      ],
      "execution_count": 235,
      "outputs": [
        {
          "output_type": "display_data",
          "data": {
            "image/png": "[encoded data removed]",
            "text/plain": [
              "<Figure size 1080x720 with 1 Axes>"
            ]
          },
          "metadata": {
            "tags": []
          }
        }
      ]
    },
    {
      "cell_type": "code",
      "metadata": {
        "colab": {
          "base_uri": "https://localhost:8080/",
          "height": 630
        },
        "id": "D1vIgB0NUFRD",
        "outputId": "365a367f-d8fc-4f37-afae-6e1515315d00"
      },
      "source": [
        "# Identificando as quantidades\n",
        "sns.set_theme(style=\"darkgrid\")\n",
        "x = df['ocorrencia_uf'].value_counts().values\n",
        "y = df['ocorrencia_uf'].value_counts().index\n",
        "ax1 = sns.barplot( x=x, y=y )\n",
        "ax1.set_title('Total de Ocorrências por Estado', fontsize=15) \n",
        "ax1.set_xlabel('Quantidade', fontsize=12)\n",
        "ax1.set_ylabel('Estado', fontsize=12)\n",
        "plt.show()"
      ],
      "execution_count": 239,
      "outputs": [
        {
          "output_type": "display_data",
          "data": {
            "image/png": "[encoded data removed]",
            "text/plain": [
              "<Figure size 1080x720 with 1 Axes>"
            ]
          },
          "metadata": {
            "tags": []
          }
        }
      ]
    },
    {
      "cell_type": "code",
      "metadata": {
        "colab": {
          "base_uri": "https://localhost:8080/",
          "height": 632
        },
        "id": "pH-mrp95XoKf",
        "outputId": "f0cfb7a8-322d-44ce-d96f-8ef5e99cbd62"
      },
      "source": [
        "#Ocorrência por mês e ano de 2018 a 2020\n",
        "#Selecionando 2018\n",
        "df_2018 = df[df[\"ocorrencia_dia\"].dt.year == 2018]\n",
        "#Selecionando 2019\n",
        "df_2019 = df[df[\"ocorrencia_dia\"].dt.year == 2019]\n",
        "#Selecionando 2020\n",
        "df_2020 = df[df[\"ocorrencia_dia\"].dt.year == 2020]\n",
        "# comparativo\n",
        "df_2018.groupby(df_2018[\"ocorrencia_dia\"].dt.month)['ocorrencia_classificacao'].count().plot(color='blue', label='Ano 2018')\n",
        "df_2019.groupby(df_2019[\"ocorrencia_dia\"].dt.month)['ocorrencia_classificacao'].count().plot(color='red', label='Ano 2019')\n",
        "df_2020.groupby(df_2020[\"ocorrencia_dia\"].dt.month)['ocorrencia_classificacao'].count().plot(color='green', label='Ano 2020')\n",
        "plt.title(\"Ocorrência x Mês x Ano\")\n",
        "plt.xlabel(\"Mês\")\n",
        "plt.ylabel(\"Nº OCORRÊNCIAS\")\n",
        "plt.legend()\n",
        "plt.show()"
      ],
      "execution_count": 34,
      "outputs": [
        {
          "output_type": "display_data",
          "data": {
            "image/png": "[encoded data removed]",
            "text/plain": [
              "<Figure size 1080x720 with 1 Axes>"
            ]
          },
          "metadata": {
            "tags": [],
            "needs_background": "light"
          }
        }
      ]
    },
    {
      "cell_type": "code",
      "metadata": {
        "colab": {
          "base_uri": "https://localhost:8080/",
          "height": 575
        },
        "id": "mxR9GYSNfZSb",
        "outputId": "9245f6f5-b36a-4475-a8e1-12de0fcd72ea"
      },
      "source": [
        "#Ocorrencias em %\n",
        "ocorrencias = df['ocorrencia_classificacao'].value_counts()\n",
        "ocorrenciasname = df['ocorrencia_classificacao'].unique()\n",
        "plt.pie(ocorrencias, labels=ocorrenciasname, autopct='%1.1f%%')\n",
        "plt.show()"
      ],
      "execution_count": 243,
      "outputs": [
        {
          "output_type": "display_data",
          "data": {
            "image/png": "[encoded data removed]",
            "text/plain": [
              "<Figure size 1080x720 with 1 Axes>"
            ]
          },
          "metadata": {
            "tags": []
          }
        }
      ]
    }
  ]
}